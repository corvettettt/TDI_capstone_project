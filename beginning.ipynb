{
 "cells": [
  {
   "cell_type": "code",
   "execution_count": 202,
   "metadata": {},
   "outputs": [],
   "source": [
    "import requests\n",
    "from bs4 import BeautifulSoup\n",
    "from requests_futures.sessions import FuturesSession\n",
    "from ediblepickle import checkpoint\n",
    "from collections import namedtuple\n",
    "import os\n",
    "import sys\n",
    "import pandas as pd\n",
    "import re\n",
    "sys.setrecursionlimit(1000000)"
   ]
  },
  {
   "cell_type": "code",
   "execution_count": 4,
   "metadata": {},
   "outputs": [],
   "source": [
    "URL_template = '''https://www.imdb.com/search/title/?title_type=feature&year={YEAR}-01-01,{YEAR}-12-31&view=simple&start={START}&ref_=adv_nxt'''\n",
    "\n"
   ]
  },
  {
   "cell_type": "code",
   "execution_count": 59,
   "metadata": {},
   "outputs": [],
   "source": [
    "def GetListFromLink(url,year,start):\n",
    "    url = url.format(YEAR=year,START=start)\n",
    "    result = namedtuple('info',['name','year','popularity_rank_year','imdb_rate','imdb_link'])\n",
    "    response = requests.get(url)\n",
    "    soup = BeautifulSoup(response.text)\n",
    "    parts = soup.select('div#main div.lister-list div.lister-item')\n",
    "    res = []\n",
    "    for part in parts:\n",
    "        sub_part = part.find('div',class_='lister-col-wrapper')\n",
    "        popularity = int(sub_part.find(class_='lister-item-index').text[:-1].replace(',',''))\n",
    "        title_part = sub_part.find('div',class_='col-title')\n",
    "        rate = sub_part.find('div',class_='col-imdb-rating').text.strip()\n",
    "        if rate=='-':\n",
    "            rate = None\n",
    "        else:\n",
    "            rate = float(rate)\n",
    "        name= title_part.find('a').text.strip()\n",
    "        link = '''https://www.imdb.com/'''+title_part.find('a')['href']\n",
    "        year = title_part.find('span',class_='lister-item-year').text\n",
    "        res.append(result(name,year,popularity,rate,link))\n",
    "    return res"
   ]
  },
  {
   "cell_type": "code",
   "execution_count": 62,
   "metadata": {
    "scrolled": true
   },
   "outputs": [
    {
     "name": "stdout",
     "output_type": "stream",
     "text": [
      "process 2014:0/100\n",
      "process 2014:1/100\n",
      "process 2014:2/100\n",
      "process 2014:3/100\n",
      "process 2014:4/100\n",
      "process 2014:5/100\n",
      "process 2014:6/100\n",
      "process 2014:7/100\n",
      "process 2014:8/100\n",
      "process 2014:9/100\n",
      "process 2014:10/100\n",
      "process 2014:11/100\n",
      "process 2014:12/100\n",
      "process 2014:13/100\n",
      "process 2014:14/100\n",
      "process 2014:15/100\n",
      "process 2014:16/100\n",
      "process 2014:17/100\n",
      "process 2014:18/100\n",
      "process 2014:19/100\n",
      "process 2014:20/100\n",
      "process 2014:21/100\n",
      "process 2014:22/100\n",
      "process 2014:23/100\n",
      "process 2014:24/100\n",
      "process 2014:25/100\n",
      "process 2014:26/100\n",
      "process 2014:27/100\n",
      "process 2014:28/100\n",
      "process 2014:29/100\n",
      "process 2014:30/100\n",
      "process 2014:31/100\n",
      "process 2014:32/100\n",
      "process 2014:33/100\n",
      "process 2014:34/100\n",
      "process 2014:35/100\n",
      "process 2014:36/100\n",
      "process 2014:37/100\n",
      "process 2014:38/100\n",
      "process 2014:39/100\n",
      "process 2014:40/100\n",
      "process 2014:41/100\n",
      "process 2014:42/100\n",
      "process 2014:43/100\n",
      "process 2014:44/100\n",
      "process 2014:45/100\n",
      "process 2014:46/100\n",
      "process 2014:47/100\n",
      "process 2014:48/100\n",
      "process 2014:49/100\n",
      "process 2014:50/100\n",
      "process 2014:51/100\n",
      "process 2014:52/100\n",
      "process 2014:53/100\n",
      "process 2014:54/100\n",
      "process 2014:55/100\n",
      "process 2014:56/100\n",
      "process 2014:57/100\n",
      "process 2014:58/100\n",
      "process 2014:59/100\n",
      "process 2014:60/100\n",
      "process 2014:61/100\n",
      "process 2014:62/100\n",
      "process 2014:63/100\n",
      "process 2014:64/100\n",
      "process 2014:65/100\n",
      "process 2014:66/100\n",
      "process 2014:67/100\n",
      "process 2014:68/100\n",
      "process 2014:69/100\n",
      "process 2014:70/100\n",
      "process 2014:71/100\n",
      "process 2014:72/100\n",
      "process 2014:73/100\n",
      "process 2014:74/100\n",
      "process 2014:75/100\n",
      "process 2014:76/100\n",
      "process 2014:77/100\n",
      "process 2014:78/100\n",
      "process 2014:79/100\n",
      "process 2014:80/100\n",
      "process 2014:81/100\n",
      "process 2014:82/100\n",
      "process 2014:83/100\n",
      "process 2014:84/100\n",
      "process 2014:85/100\n",
      "process 2014:86/100\n",
      "process 2014:87/100\n",
      "process 2014:88/100\n",
      "process 2014:89/100\n",
      "process 2014:90/100\n",
      "process 2014:91/100\n",
      "process 2014:92/100\n",
      "process 2014:93/100\n",
      "process 2014:94/100\n",
      "process 2014:95/100\n",
      "process 2014:96/100\n",
      "process 2014:97/100\n",
      "process 2014:98/100\n",
      "process 2014:99/100\n"
     ]
    }
   ],
   "source": [
    "#df = pd.DataFrame(columns=['name','year','popularity','rate','link'])\n",
    "for year in range(2010,2020):\n",
    "    df = pd.DataFrame(columns=['name', 'year', 'popularity_rank_year', 'imdb_rate', 'imdb_link'])\n",
    "    for start in range(1,5001,50):\n",
    "        sys.stdout.write('process {}:{}/100'.format(year,int((start-1)/50)+1)+'\\n')\n",
    "        sys.stdout.flush()\n",
    "        tmp = GetListFromLink(URL_template,year,start)\n",
    "        for element in tmp:\n",
    "            new_row = pd.Series(data={x:y for x,y in element._asdict().items()})\n",
    "            df = df.append(new_row,ignore_index=True)\n",
    "    df.to_csv('cache/{}.csv'.format(year))"
   ]
  },
  {
   "cell_type": "code",
   "execution_count": 275,
   "metadata": {},
   "outputs": [],
   "source": [
    "def DetailFromPage(name,ID):\n",
    "    res = namedtuple(name,['rank','Director','Writer','Producer','Editor','Casts','Budget','Country','origin_language','gross_USACanada'\n",
    "                          'gross_WorldWide','Company','Runtime','Genres','NumberOfCritic','MovieMeter','Popularity','Awards','NumberOfReviews','NumberOfReviews_page'])\n",
    "\n",
    "    url_imdb_pro = 'https://pro.imdb.com/title/tt1853728'\n",
    "    url_imdb = 'https://www.imdb.com/title/tt1853728/'\n",
    "    url_rotten = 'https://www.rottentomatoes.com/m/django_unchained_2012'  \n",
    "    \n",
    "    response_imdb = requests.get(url_imdb)\n",
    "    response_imdb_pro = requests.get(url_imdb_pro)\n",
    "    response_rotten = requests.get(url_rotten)\n",
    "    \n",
    "    soup_imdb = BeautifulSoup(response_imdb.text).find('div',id='content-2-wide')\n",
    "    soup_imdb_pro = BeautifulSoup(response_imdb_pro.text)\n",
    "    soup_rotten = BeautifulSoup(response_rotten.text)\n",
    "\n",
    "    #Processing imdb page\n",
    "    top_part = soup_imdb.find('div',id='main_top')\n",
    "    res.rank = top_part.find('div',class_='title_wrapper').find('div',class_='subtext').text.split()[0]\n",
    "    \n",
    "    #processing plot_summary part\n",
    "    plot_summary = top_part.find('div',class_='plot_summary')\n",
    "    for element in plot_summary.select('h4.inline'):\n",
    "        if 'Director' in element.text:\n",
    "            res.Director = element.parent.find('a').text\n",
    "        if 'Writer' in element.text:\n",
    "            res.Writer =  element.parent.find('a').text\n",
    "        if 'Star' in element.text:\n",
    "            res.Producer = ' ; '.join([i.text for i in element.parent.select('a') if 'name' in i['href']])\n",
    "    #release memoery\n",
    "    del plot_summary\n",
    "    \n",
    "    \n",
    "    titlebar = top_part.find('div',class_='titleReviewBar').findAll('div',class_='titleReviewBarItem')\n",
    "    for element in titlebar:\n",
    "        if 'Popularity' in element.split():\n",
    "            res.Popularity = element.split()[1]\n",
    "        if 'Reviews' in element.text.split():\n",
    "            subtexts = element.findAll('a')\n",
    "            for subtext in subtexts:\n",
    "                if 'user' in subtext.text:\n",
    "                    res.NumberOfReviews = subtext.text.split()[0]\n",
    "                if 'critic' in subtext.text:\n",
    "                    res.NumberOfCritic = subtext.text.split()[0]\n",
    "    #release memory\n",
    "    del titlebar\n",
    "    \n",
    "    \n",
    "    bottom_part = soup_imdb.find('div',id='main_bottom') \n",
    "    #processing adwards\n",
    "    Awards = bottom_part.find('div',id='titleAwardsRanks')\n",
    "    tmp_awards= []\n",
    "    if Awards.find('strong'):\n",
    "        tmp_awards.append(Awards.find('strong').text.strip())\n",
    "    for i in Awards.findAll('span',class_='awards-blurb'):\n",
    "        tmp_awards.append(' '.join(i.text.split()))\n",
    "    tmp_awards.append(Awards.find('span',class_='see-more').find('a')['href'])\n",
    "    res.Adwards = ' ; '.join(tmp_awards)    \n",
    "    #release memory\n",
    "    del Awards\n",
    "    \n",
    "    #processing Genres\n",
    "    Genres = bottom_part.find('div',id = 'titleStoryLine')\n",
    "    for element in Genres.select('h4.inline'):\n",
    "        if 'Genre' in element.text:\n",
    "            res.Genres = ';'.join([i.text for i in element.parent.select('a')])\n",
    "    #release memory\n",
    "    del Genres\n",
    "    \n",
    "    #processing Cast\n",
    "    Casts = bottom_part.find('div',id = 'titleCast').find('table',class_='cast_list')\n",
    "    CastList = []\n",
    "    for i in Casts.findAll('tr',class_= re.compile('even|odd')):\n",
    "        CastList.append(i.find('td',class_=False).find('a').text.strip())\n",
    "    res.Casts = ' ; '.join(CastList)\n",
    "    #release memory\n",
    "    del Casts\n",
    "    \n",
    "    #processing Details\n",
    "    Details = bottom_part.find('div',id = 'titleDetails')\n",
    "    Gross_tmp = []\n",
    "    for element in Details.findAll('div',class_='txt-block'):\n",
    "        if element.find('h4'):\n",
    "            if 'Language' in element.find('h4').text:\n",
    "                res.origin_language = ';'.join([i.textstrip() for i in element.findAll('a')])\n",
    "\n",
    "            if 'Country' in element.find('h4').text:\n",
    "                res.Country = ';'.join([i.text.strip() for i in element.findAll('a')])\n",
    "\n",
    "            if 'Budget' in element.find('h4').text:\n",
    "                res.Budget = element.find('h4').text.strip()\n",
    "\n",
    "            Gross_tmp.append(element)\n",
    "\n",
    "            ProductionList=[]\n",
    "            if 'Production' in element.find('h4').text:\n",
    "                for i in element.findChildren(\"a\" , recursive=False):\n",
    "                    ProductionList.append(i.text)\n",
    "            res.Company = ';'.join(ProductionList)\n",
    "            \n",
    "            if 'Runtime' in element.find('h4').text:\n",
    "                res.Runtime = int(element.find('time').text.split()[0])\n",
    "            \n",
    "    res.Editor =0\n",
    "    res.MovieMeter = 0\n",
    "    res.NumberOfReviews_page = 0\n",
    "    \n",
    "    return res\n",
    "    "
   ]
  },
  {
   "cell_type": "code",
   "execution_count": 70,
   "metadata": {},
   "outputs": [],
   "source": [
    "response = requests.get('https://www.imdb.com/title/tt1853728/')"
   ]
  },
  {
   "cell_type": "code",
   "execution_count": 276,
   "metadata": {},
   "outputs": [
    {
     "ename": "TypeError",
     "evalue": "'NoneType' object is not callable",
     "output_type": "error",
     "traceback": [
      "\u001b[0;31m---------------------------------------------------------------------------\u001b[0m",
      "\u001b[0;31mTypeError\u001b[0m                                 Traceback (most recent call last)",
      "\u001b[0;32m<ipython-input-276-ab11aaa3de5f>\u001b[0m in \u001b[0;36m<module>\u001b[0;34m\u001b[0m\n\u001b[0;32m----> 1\u001b[0;31m \u001b[0mDetailFromPage\u001b[0m\u001b[0;34m(\u001b[0m\u001b[0;34m'asdf'\u001b[0m\u001b[0;34m,\u001b[0m\u001b[0;36m4\u001b[0m\u001b[0;34m)\u001b[0m\u001b[0;34m\u001b[0m\u001b[0;34m\u001b[0m\u001b[0m\n\u001b[0m",
      "\u001b[0;32m<ipython-input-275-5f06f6e6db86>\u001b[0m in \u001b[0;36mDetailFromPage\u001b[0;34m(name, ID)\u001b[0m\n\u001b[1;32m     33\u001b[0m     \u001b[0mtitlebar\u001b[0m \u001b[0;34m=\u001b[0m \u001b[0mtop_part\u001b[0m\u001b[0;34m.\u001b[0m\u001b[0mfind\u001b[0m\u001b[0;34m(\u001b[0m\u001b[0;34m'div'\u001b[0m\u001b[0;34m,\u001b[0m\u001b[0mclass_\u001b[0m\u001b[0;34m=\u001b[0m\u001b[0;34m'titleReviewBar'\u001b[0m\u001b[0;34m)\u001b[0m\u001b[0;34m.\u001b[0m\u001b[0mfindAll\u001b[0m\u001b[0;34m(\u001b[0m\u001b[0;34m'div'\u001b[0m\u001b[0;34m,\u001b[0m\u001b[0mclass_\u001b[0m\u001b[0;34m=\u001b[0m\u001b[0;34m'titleReviewBarItem'\u001b[0m\u001b[0;34m)\u001b[0m\u001b[0;34m\u001b[0m\u001b[0;34m\u001b[0m\u001b[0m\n\u001b[1;32m     34\u001b[0m     \u001b[0;32mfor\u001b[0m \u001b[0melement\u001b[0m \u001b[0;32min\u001b[0m \u001b[0mtitlebar\u001b[0m\u001b[0;34m:\u001b[0m\u001b[0;34m\u001b[0m\u001b[0;34m\u001b[0m\u001b[0m\n\u001b[0;32m---> 35\u001b[0;31m         \u001b[0;32mif\u001b[0m \u001b[0;34m'Popularity'\u001b[0m \u001b[0;32min\u001b[0m \u001b[0melement\u001b[0m\u001b[0;34m.\u001b[0m\u001b[0msplit\u001b[0m\u001b[0;34m(\u001b[0m\u001b[0;34m)\u001b[0m\u001b[0;34m:\u001b[0m\u001b[0;34m\u001b[0m\u001b[0;34m\u001b[0m\u001b[0m\n\u001b[0m\u001b[1;32m     36\u001b[0m             \u001b[0mres\u001b[0m\u001b[0;34m.\u001b[0m\u001b[0mPopularity\u001b[0m \u001b[0;34m=\u001b[0m \u001b[0melement\u001b[0m\u001b[0;34m.\u001b[0m\u001b[0msplit\u001b[0m\u001b[0;34m(\u001b[0m\u001b[0;34m)\u001b[0m\u001b[0;34m[\u001b[0m\u001b[0;36m1\u001b[0m\u001b[0;34m]\u001b[0m\u001b[0;34m\u001b[0m\u001b[0;34m\u001b[0m\u001b[0m\n\u001b[1;32m     37\u001b[0m         \u001b[0;32mif\u001b[0m \u001b[0;34m'Reviews'\u001b[0m \u001b[0;32min\u001b[0m \u001b[0melement\u001b[0m\u001b[0;34m.\u001b[0m\u001b[0mtext\u001b[0m\u001b[0;34m.\u001b[0m\u001b[0msplit\u001b[0m\u001b[0;34m(\u001b[0m\u001b[0;34m)\u001b[0m\u001b[0;34m:\u001b[0m\u001b[0;34m\u001b[0m\u001b[0;34m\u001b[0m\u001b[0m\n",
      "\u001b[0;31mTypeError\u001b[0m: 'NoneType' object is not callable"
     ]
    }
   ],
   "source": [
    "DetailFromPage('asdf',4)"
   ]
  },
  {
   "cell_type": "code",
   "execution_count": 277,
   "metadata": {},
   "outputs": [],
   "source": [
    "content = soup.find('div',id='content-2-wide').find('div',id='main_top')"
   ]
  },
  {
   "cell_type": "code",
   "execution_count": 281,
   "metadata": {},
   "outputs": [],
   "source": [
    "tt = content.find('div',class_='titleReviewBar').findAll('div',class_='titleReviewBarItem')"
   ]
  },
  {
   "cell_type": "code",
   "execution_count": 282,
   "metadata": {},
   "outputs": [
    {
     "ename": "TypeError",
     "evalue": "'NoneType' object is not callable",
     "output_type": "error",
     "traceback": [
      "\u001b[0;31m---------------------------------------------------------------------------\u001b[0m",
      "\u001b[0;31mTypeError\u001b[0m                                 Traceback (most recent call last)",
      "\u001b[0;32m<ipython-input-282-2ba15fa83549>\u001b[0m in \u001b[0;36m<module>\u001b[0;34m\u001b[0m\n\u001b[1;32m      1\u001b[0m \u001b[0;32mfor\u001b[0m \u001b[0melement\u001b[0m \u001b[0;32min\u001b[0m \u001b[0mtt\u001b[0m\u001b[0;34m:\u001b[0m\u001b[0;34m\u001b[0m\u001b[0;34m\u001b[0m\u001b[0m\n\u001b[0;32m----> 2\u001b[0;31m     \u001b[0;32mif\u001b[0m \u001b[0;34m'Popularity'\u001b[0m \u001b[0;32min\u001b[0m \u001b[0melement\u001b[0m\u001b[0;34m.\u001b[0m\u001b[0msplit\u001b[0m\u001b[0;34m(\u001b[0m\u001b[0;34m)\u001b[0m\u001b[0;34m:\u001b[0m\u001b[0;34m\u001b[0m\u001b[0;34m\u001b[0m\u001b[0m\n\u001b[0m\u001b[1;32m      3\u001b[0m         \u001b[0mres\u001b[0m\u001b[0;34m.\u001b[0m\u001b[0mPopularity\u001b[0m \u001b[0;34m=\u001b[0m \u001b[0melement\u001b[0m\u001b[0;34m.\u001b[0m\u001b[0msplit\u001b[0m\u001b[0;34m(\u001b[0m\u001b[0;34m)\u001b[0m\u001b[0;34m[\u001b[0m\u001b[0;36m1\u001b[0m\u001b[0;34m]\u001b[0m\u001b[0;34m\u001b[0m\u001b[0;34m\u001b[0m\u001b[0m\n\u001b[1;32m      4\u001b[0m     \u001b[0;32mif\u001b[0m \u001b[0;34m'Reviews'\u001b[0m \u001b[0;32min\u001b[0m \u001b[0melement\u001b[0m\u001b[0;34m.\u001b[0m\u001b[0mtext\u001b[0m\u001b[0;34m.\u001b[0m\u001b[0msplit\u001b[0m\u001b[0;34m(\u001b[0m\u001b[0;34m)\u001b[0m\u001b[0;34m:\u001b[0m\u001b[0;34m\u001b[0m\u001b[0;34m\u001b[0m\u001b[0m\n\u001b[1;32m      5\u001b[0m         \u001b[0msubtexts\u001b[0m \u001b[0;34m=\u001b[0m \u001b[0melement\u001b[0m\u001b[0;34m.\u001b[0m\u001b[0mfindAll\u001b[0m\u001b[0;34m(\u001b[0m\u001b[0;34m'a'\u001b[0m\u001b[0;34m)\u001b[0m\u001b[0;34m\u001b[0m\u001b[0;34m\u001b[0m\u001b[0m\n",
      "\u001b[0;31mTypeError\u001b[0m: 'NoneType' object is not callable"
     ]
    }
   ],
   "source": [
    "for element in tt:\n",
    "    if 'Popularity' in element.split():\n",
    "        res.Popularity = element.split()[1]\n",
    "    if 'Reviews' in element.text.split():\n",
    "        subtexts = element.findAll('a')\n",
    "        for subtext in subtexts:\n",
    "            if 'user' in subtext.text:\n",
    "                res.NumberOfReviews = subtext.text.split()[0]\n",
    "            if 'critic' in subtext.text:\n",
    "                res.NumberOfCritic = subtext.text.split()[0]\n"
   ]
  },
  {
   "cell_type": "code",
   "execution_count": 263,
   "metadata": {},
   "outputs": [
    {
     "name": "stdout",
     "output_type": "stream",
     "text": [
      "<a href=\"/company/co0150452\"> The Weinstein Company</a>\n",
      "<a href=\"/company/co0050868\"> Columbia Pictures</a>\n"
     ]
    }
   ],
   "source": [
    "for i in a.findChildren(\"a\" , recursive=False):\n",
    "    print(i)"
   ]
  },
  {
   "cell_type": "code",
   "execution_count": 142,
   "metadata": {},
   "outputs": [
    {
     "data": {
      "text/plain": [
       "'Jamie Foxx ; Christoph Waltz ; Leonardo DiCaprio'"
      ]
     },
     "execution_count": 142,
     "metadata": {},
     "output_type": "execute_result"
    }
   ],
   "source": [
    "Producer"
   ]
  },
  {
   "cell_type": "code",
   "execution_count": 64,
   "metadata": {},
   "outputs": [],
   "source": [
    "link1 = soup.select('div#main div.lister-list div.lister-item')[0]"
   ]
  },
  {
   "cell_type": "code",
   "execution_count": 88,
   "metadata": {},
   "outputs": [],
   "source": [
    "new = link1.find('div',class_='lister-col-wrapper')"
   ]
  },
  {
   "cell_type": "code",
   "execution_count": 89,
   "metadata": {},
   "outputs": [
    {
     "data": {
      "text/plain": [
       "<div class=\"col-title\">\n",
       "<span class=\"lister-item-header\">\n",
       "<span class=\"lister-item-index unbold text-primary\">1.</span>\n",
       "<span title=\"Martin Scorsese (dir.), Leonardo DiCaprio, Jonah Hill\">\n",
       "<a href=\"/title/tt0993846/\">The Wolf of Wall Street</a>\n",
       "<span class=\"lister-item-year text-muted unbold\">(2013)</span>\n",
       "</span>\n",
       "</span>\n",
       "</div>"
      ]
     },
     "execution_count": 89,
     "metadata": {},
     "output_type": "execute_result"
    }
   ],
   "source": [
    "new.find('div',class_='col-title')"
   ]
  },
  {
   "cell_type": "code",
   "execution_count": 7,
   "metadata": {},
   "outputs": [
    {
     "name": "stdout",
     "output_type": "stream",
     "text": [
      "0\n",
      "3\n",
      "6\n",
      "9\n",
      "12\n",
      "15\n",
      "18\n",
      "21\n",
      "24\n",
      "27\n",
      "30\n",
      "33\n",
      "36\n",
      "39\n",
      "42\n",
      "45\n",
      "48\n",
      "51\n",
      "54\n",
      "57\n",
      "60\n",
      "63\n",
      "66\n",
      "69\n",
      "72\n",
      "75\n",
      "78\n",
      "81\n",
      "84\n",
      "87\n",
      "90\n",
      "93\n",
      "96\n",
      "99\n"
     ]
    }
   ],
   "source": [
    "for year in range(2012,2018):\n",
    "    for start in range(1,5001):\n",
    "        GetListFromLink(URL_template,year,start)\n"
   ]
  },
  {
   "cell_type": "code",
   "execution_count": null,
   "metadata": {},
   "outputs": [],
   "source": []
  }
 ],
 "metadata": {
  "kernelspec": {
   "display_name": "Python 3",
   "language": "python",
   "name": "python3"
  },
  "language_info": {
   "codemirror_mode": {
    "name": "ipython",
    "version": 3
   },
   "file_extension": ".py",
   "mimetype": "text/x-python",
   "name": "python",
   "nbconvert_exporter": "python",
   "pygments_lexer": "ipython3",
   "version": "3.7.5"
  }
 },
 "nbformat": 4,
 "nbformat_minor": 4
}
